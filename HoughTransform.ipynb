{
 "cells": [
  {
   "cell_type": "code",
   "execution_count": 81,
   "id": "da39eea3-e345-4520-b227-6537da3e2357",
   "metadata": {},
   "outputs": [],
   "source": [
    "import cv2,numpy as np"
   ]
  },
  {
   "cell_type": "code",
   "execution_count": 130,
   "id": "79d193ad-f80c-476a-802a-5809e74551c0",
   "metadata": {},
   "outputs": [],
   "source": [
    "src = cv2.imread('hackathon_2022-main/good.png')"
   ]
  },
  {
   "cell_type": "code",
   "execution_count": 131,
   "id": "bba737a2-4be2-4801-866b-1ce92329d624",
   "metadata": {},
   "outputs": [],
   "source": [
    "gray = cv2.cvtColor(src, cv2.COLOR_BGR2GRAY)\n",
    "gray = cv2.resize(gray, (500,500), interpolation = cv2.INTER_AREA)"
   ]
  },
  {
   "cell_type": "code",
   "execution_count": 132,
   "id": "6eb09076-515a-4a47-85e6-ebbb44d094a1",
   "metadata": {},
   "outputs": [],
   "source": [
    "# Performing Canny edge detection\n",
    "gray_canny = cv2.Canny(gray,40,120)"
   ]
  },
  {
   "cell_type": "code",
   "execution_count": 133,
   "id": "b67bc9cf-1bd3-4b8d-940b-4cdb00a6f703",
   "metadata": {},
   "outputs": [],
   "source": [
    "# rows = gray.shape[0]\n",
    "# Concentric circles cannot be detected at one so first detecting the outer circle\n",
    "circles = cv2.HoughCircles(gray_canny, cv2.HOUGH_GRADIENT, 1, 500,\n",
    "                               param1=140, param2=10,\n",
    "                               minRadius=1, maxRadius=400)\n",
    "outer_circle = circles"
   ]
  },
  {
   "cell_type": "code",
   "execution_count": 134,
   "id": "def00971-f510-4d0f-a39b-1bcd0457cfc4",
   "metadata": {},
   "outputs": [],
   "source": [
    "# Masking the outer circle\n",
    "circle = outer_circle\n",
    "if circles is not None:\n",
    "    circles = np.uint16(np.around(circles))\n",
    "    for i in circles[0, :]:\n",
    "        center = (i[0], i[1])\n",
    "        radius = i[2]\n",
    "        cv2.circle(gray_canny, center, radius, (0, 0, 0), 7)"
   ]
  },
  {
   "cell_type": "code",
   "execution_count": 135,
   "id": "d28e8452-42bd-4a3a-b492-0f753e925585",
   "metadata": {},
   "outputs": [],
   "source": [
    "# Detecting the inner circle\n",
    "#rows = gray.shape[0]\n",
    "circles = cv2.HoughCircles(gray_canny, cv2.HOUGH_GRADIENT, 1, 500,\n",
    "                               param1=140, param2=10,\n",
    "                               minRadius=1, maxRadius=400)\n",
    "inner_circle = circles"
   ]
  },
  {
   "cell_type": "code",
   "execution_count": 136,
   "id": "669893d7-322d-45ba-86a5-523c32992e71",
   "metadata": {},
   "outputs": [],
   "source": [
    "# Masking inner circle\n",
    "circle = inner_circle\n",
    "if circles is not None:\n",
    "    circles = np.uint16(np.around(circles))\n",
    "    for i in circles[0, :]:\n",
    "        center = (i[0], i[1])\n",
    "        radius = i[2]\n",
    "        cv2.circle(gray_canny, center, radius, (0, 0, 0), 7)"
   ]
  },
  {
   "cell_type": "code",
   "execution_count": 140,
   "id": "cfac4f7a-3b96-4057-9e6c-d6a8d989221d",
   "metadata": {},
   "outputs": [],
   "source": [
    "# Combining the detected inner circle and outer circle into single numpy array\n",
    "combined_circle = np.append(inner_circle,outer_circle,axis = 1)"
   ]
  },
  {
   "cell_type": "code",
   "execution_count": 141,
   "id": "fc8e87cb-0668-4ca3-8529-2d187517b8df",
   "metadata": {},
   "outputs": [],
   "source": [
    "# Finding the points which are not on circle from\n",
    "res = np.where(gray_canny > 250)"
   ]
  },
  {
   "cell_type": "code",
   "execution_count": 142,
   "id": "ff731e05-8e54-4f43-8873-b4b3cfb7911e",
   "metadata": {},
   "outputs": [
    {
     "name": "stdout",
     "output_type": "stream",
     "text": [
      "No Defects - Good\n"
     ]
    }
   ],
   "source": [
    "# Calculating the distance between the center and the points detects\n",
    "# Checking the defect by comparing the distance calculated with radiuss\n",
    "import math\n",
    "def calculateDistance(x1,y1,x2,y2):\n",
    "    dist = math.sqrt((x2 - x1)**2 + (y2 - y1)**2)\n",
    "    return dist\n",
    "\n",
    "output = {'Flash':0,'Cut':0}\n",
    "\n",
    "for (x1,y1) in zip(res[0],res[1]):\n",
    "    x2_i,y2_i = combined_circle[0][0][0], combined_circle[0][0][1]\n",
    "    x2_o,y2_o = combined_circle[0][1][0], combined_circle[0][1][1]\n",
    "    \n",
    "    inner_compare = calculateDistance(x1, y1, x2_i, y2_i)\n",
    "    outer_compare = calculateDistance(x1, y1, x2_o, y2_o)\n",
    "    \n",
    "    if ((inner_compare < combined_circle[0][0][2]) or  (outer_compare > combined_circle[0][1][2])):\n",
    "        output['Flash'] = output['Flash'] + 1\n",
    "    if ((inner_compare > combined_circle[0][0][2]) & (outer_compare < combined_circle[0][1][2])):\n",
    "        output['Cut'] = output['Cut'] + 1\n",
    "\n",
    "if output ['Cut'] > 5:\n",
    "    print('Defect - Cut')\n",
    "if output['Flash'] > 5:\n",
    "    print('Defect - Flash')\n",
    "if ((output['Cut']+output['Flash']) < 2):\n",
    "    print('No Defects - Good')"
   ]
  },
  {
   "cell_type": "code",
   "execution_count": null,
   "id": "3df67dd2-4634-4158-b65f-d40e7698c57c",
   "metadata": {},
   "outputs": [],
   "source": []
  },
  {
   "cell_type": "code",
   "execution_count": null,
   "id": "2fb4e6e6-edd9-4105-b890-3c6105ccb7ee",
   "metadata": {},
   "outputs": [],
   "source": []
  }
 ],
 "metadata": {
  "kernelspec": {
   "display_name": "Python 3 (ipykernel)",
   "language": "python",
   "name": "python3"
  },
  "language_info": {
   "codemirror_mode": {
    "name": "ipython",
    "version": 3
   },
   "file_extension": ".py",
   "mimetype": "text/x-python",
   "name": "python",
   "nbconvert_exporter": "python",
   "pygments_lexer": "ipython3",
   "version": "3.9.12"
  }
 },
 "nbformat": 4,
 "nbformat_minor": 5
}
